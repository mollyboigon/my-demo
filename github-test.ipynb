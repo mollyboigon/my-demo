{
 "cells": [
  {
   "cell_type": "code",
   "execution_count": 1,
   "id": "015767e0",
   "metadata": {},
   "outputs": [],
   "source": [
    "rent = 500\n",
    "income = 1700\n"
   ]
  },
  {
   "cell_type": "code",
   "execution_count": 2,
   "id": "687f0f24",
   "metadata": {},
   "outputs": [
    {
     "data": {
      "text/plain": [
       "29.411764705882355"
      ]
     },
     "execution_count": 2,
     "metadata": {},
     "output_type": "execute_result"
    }
   ],
   "source": [
    "rent_pct = rent/income * 100\n",
    "rent_pct\n"
   ]
  },
  {
   "cell_type": "code",
   "execution_count": 3,
   "id": "45736484",
   "metadata": {},
   "outputs": [],
   "source": [
    "my_list = [1, 3, 5, 7, 9]"
   ]
  },
  {
   "cell_type": "code",
   "execution_count": 4,
   "id": "40316aa1",
   "metadata": {},
   "outputs": [
    {
     "name": "stdout",
     "output_type": "stream",
     "text": [
      "1\n",
      "3\n",
      "5\n",
      "7\n",
      "9\n"
     ]
    }
   ],
   "source": [
    "for number in my_list:\n",
    "    print(number)"
   ]
  },
  {
   "cell_type": "code",
   "execution_count": 5,
   "id": "f7812e67",
   "metadata": {},
   "outputs": [],
   "source": [
    "x, y = 5, 10"
   ]
  },
  {
   "cell_type": "code",
   "execution_count": 6,
   "id": "da64dd6f",
   "metadata": {},
   "outputs": [
    {
     "data": {
      "text/plain": [
       "False"
      ]
     },
     "execution_count": 6,
     "metadata": {},
     "output_type": "execute_result"
    }
   ],
   "source": [
    "x > y"
   ]
  },
  {
   "cell_type": "code",
   "execution_count": 7,
   "id": "8057034f",
   "metadata": {},
   "outputs": [
    {
     "data": {
      "text/plain": [
       "True"
      ]
     },
     "execution_count": 7,
     "metadata": {},
     "output_type": "execute_result"
    }
   ],
   "source": [
    "x < y"
   ]
  },
  {
   "cell_type": "code",
   "execution_count": 8,
   "id": "a9e0a48b",
   "metadata": {},
   "outputs": [
    {
     "data": {
      "text/plain": [
       "False"
      ]
     },
     "execution_count": 8,
     "metadata": {},
     "output_type": "execute_result"
    }
   ],
   "source": [
    "##to check for equality, two equal signs\n",
    "x == y"
   ]
  },
  {
   "cell_type": "code",
   "execution_count": 9,
   "id": "2bd80f85",
   "metadata": {},
   "outputs": [],
   "source": [
    "x, y = 25, 25"
   ]
  },
  {
   "cell_type": "code",
   "execution_count": 10,
   "id": "c7807728",
   "metadata": {},
   "outputs": [
    {
     "data": {
      "text/plain": [
       "True"
      ]
     },
     "execution_count": 10,
     "metadata": {},
     "output_type": "execute_result"
    }
   ],
   "source": [
    "x == y"
   ]
  },
  {
   "cell_type": "code",
   "execution_count": 11,
   "id": "ee884522",
   "metadata": {},
   "outputs": [
    {
     "data": {
      "text/plain": [
       "True"
      ]
     },
     "execution_count": 11,
     "metadata": {},
     "output_type": "execute_result"
    }
   ],
   "source": [
    "##is x less than or equal to y... equal sign has to come last\n",
    "x <= y"
   ]
  },
  {
   "cell_type": "code",
   "execution_count": 13,
   "id": "b4c8e841",
   "metadata": {},
   "outputs": [
    {
     "data": {
      "text/plain": [
       "True"
      ]
     },
     "execution_count": 13,
     "metadata": {},
     "output_type": "execute_result"
    }
   ],
   "source": [
    "x = 9\n",
    "y = 99\n",
    "x != y\n",
    "##x is not equal to y"
   ]
  },
  {
   "cell_type": "code",
   "execution_count": 16,
   "id": "78761b7d",
   "metadata": {},
   "outputs": [
    {
     "name": "stdout",
     "output_type": "stream",
     "text": [
      "Declined for loan\n"
     ]
    }
   ],
   "source": [
    "##if some_condition: do something // else: do something else\n",
    "person_income = 100_000\n",
    "minimum_income = 100_001\n",
    "\n",
    "if person_income >= minimum_income:\n",
    "    decision = \"Approved for loan\" ##you've built a new variable for decision\n",
    "else:\n",
    "    decision = \"Declined for loan\"\n",
    "\n",
    "print(decision)"
   ]
  },
  {
   "cell_type": "code",
   "execution_count": 18,
   "id": "534367e5",
   "metadata": {},
   "outputs": [],
   "source": [
    "## elif is another option for conditions\n",
    "person_zip = \"11370\"\n",
    "high_risk_zip = \"11370\"\n",
    "if person_income >= minimum_income and person_zip == high_risk_zip:\n",
    "    decision = \"Declined\"\n",
    "else:\n",
    "    decision = \"Approved\""
   ]
  },
  {
   "cell_type": "code",
   "execution_count": null,
   "id": "47c6adb3",
   "metadata": {},
   "outputs": [],
   "source": []
  }
 ],
 "metadata": {
  "kernelspec": {
   "display_name": "Python 3 (ipykernel)",
   "language": "python",
   "name": "python3"
  },
  "language_info": {
   "codemirror_mode": {
    "name": "ipython",
    "version": 3
   },
   "file_extension": ".py",
   "mimetype": "text/x-python",
   "name": "python",
   "nbconvert_exporter": "python",
   "pygments_lexer": "ipython3",
   "version": "3.9.7"
  }
 },
 "nbformat": 4,
 "nbformat_minor": 5
}
