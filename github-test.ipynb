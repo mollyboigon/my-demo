{
 "cells": [
  {
   "cell_type": "code",
   "execution_count": 1,
   "id": "59beac86",
   "metadata": {},
   "outputs": [],
   "source": [
    "rent = 500\n",
    "income = 1700\n"
   ]
  },
  {
   "cell_type": "code",
   "execution_count": 2,
   "id": "f70eedba",
   "metadata": {},
   "outputs": [
    {
     "data": {
      "text/plain": [
       "29.411764705882355"
      ]
     },
     "execution_count": 2,
     "metadata": {},
     "output_type": "execute_result"
    }
   ],
   "source": [
    "rent_pct = rent/income * 100\n",
    "rent_pct\n"
   ]
  },
  {
   "cell_type": "code",
   "execution_count": 3,
   "id": "92be93ac",
   "metadata": {},
   "outputs": [],
   "source": [
    "my_list = [1, 3, 5, 7, 9]"
   ]
  },
  {
   "cell_type": "code",
   "execution_count": 4,
   "id": "e245c6f7",
   "metadata": {},
   "outputs": [
    {
     "name": "stdout",
     "output_type": "stream",
     "text": [
      "1\n",
      "3\n",
      "5\n",
      "7\n",
      "9\n"
     ]
    }
   ],
   "source": [
    "for number in my_list:\n",
    "    print(number)"
   ]
  },
  {
   "cell_type": "code",
   "execution_count": 5,
   "id": "c13a0f33",
   "metadata": {},
   "outputs": [],
   "source": [
    "x, y = 5, 10"
   ]
  },
  {
   "cell_type": "code",
   "execution_count": 6,
   "id": "a3638b83",
   "metadata": {},
   "outputs": [
    {
     "data": {
      "text/plain": [
       "False"
      ]
     },
     "execution_count": 6,
     "metadata": {},
     "output_type": "execute_result"
    }
   ],
   "source": [
    "x > y"
   ]
  },
  {
   "cell_type": "code",
   "execution_count": 7,
   "id": "b78d53fb",
   "metadata": {},
   "outputs": [
    {
     "data": {
      "text/plain": [
       "True"
      ]
     },
     "execution_count": 7,
     "metadata": {},
     "output_type": "execute_result"
    }
   ],
   "source": [
    "x < y"
   ]
  },
  {
   "cell_type": "code",
   "execution_count": null,
   "id": "377b7e1a",
   "metadata": {},
   "outputs": [],
   "source": []
  }
 ],
 "metadata": {
  "kernelspec": {
   "display_name": "Python 3 (ipykernel)",
   "language": "python",
   "name": "python3"
  },
  "language_info": {
   "codemirror_mode": {
    "name": "ipython",
    "version": 3
   },
   "file_extension": ".py",
   "mimetype": "text/x-python",
   "name": "python",
   "nbconvert_exporter": "python",
   "pygments_lexer": "ipython3",
   "version": "3.9.7"
  }
 },
 "nbformat": 4,
 "nbformat_minor": 5
}
